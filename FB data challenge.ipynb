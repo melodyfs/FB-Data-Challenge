{
 "cells": [
  {
   "cell_type": "code",
   "execution_count": 1,
   "metadata": {
    "collapsed": true
   },
   "outputs": [],
   "source": [
    "import numpy as np\n",
    "import pandas as pd\n",
    "import matplotlib.pyplot as plt\n",
    "%matplotlib inline"
   ]
  },
  {
   "cell_type": "markdown",
   "metadata": {},
   "source": [
    "## Dataset: Startups in San Francisco (from [Kaggle](https://www.kaggle.com/aashay96/san-francisco-based-startups))\n",
    "<br/>\n",
    "<font size=\"3\">5% of this dataset contains startups outside of San Francisco. Thus, I'll filter those irrelevant rows out. <br/>\n",
    "I'm also showing the first 5 rows of the dataset to get a feel of it.</font>"
   ]
  },
  {
   "cell_type": "code",
   "execution_count": 26,
   "metadata": {
    "scrolled": false
   },
   "outputs": [
    {
     "data": {
      "text/html": [
       "<div>\n",
       "<style>\n",
       "    .dataframe thead tr:only-child th {\n",
       "        text-align: right;\n",
       "    }\n",
       "\n",
       "    .dataframe thead th {\n",
       "        text-align: left;\n",
       "    }\n",
       "\n",
       "    .dataframe tbody tr th {\n",
       "        vertical-align: top;\n",
       "    }\n",
       "</style>\n",
       "<table border=\"1\" class=\"dataframe\">\n",
       "  <thead>\n",
       "    <tr style=\"text-align: right;\">\n",
       "      <th></th>\n",
       "      <th>name</th>\n",
       "      <th>email</th>\n",
       "      <th>product_desc</th>\n",
       "      <th>high_concept</th>\n",
       "      <th>location</th>\n",
       "      <th>market1</th>\n",
       "      <th>market2</th>\n",
       "      <th>market3</th>\n",
       "    </tr>\n",
       "  </thead>\n",
       "  <tbody>\n",
       "    <tr>\n",
       "      <th>0</th>\n",
       "      <td>Delight</td>\n",
       "      <td>http://delight.io</td>\n",
       "      <td>Delight enlightens developers and designers on...</td>\n",
       "      <td>1 line of code to capture user interaction on ...</td>\n",
       "      <td>San Francisco</td>\n",
       "      <td>User Testing</td>\n",
       "      <td>Usability</td>\n",
       "      <td>Mobile Analytics</td>\n",
       "    </tr>\n",
       "    <tr>\n",
       "      <th>1</th>\n",
       "      <td>AnyRoad</td>\n",
       "      <td>http://anyroad.com</td>\n",
       "      <td>AnyRoad is the leader in enterprise experience...</td>\n",
       "      <td>The leader in enterprise experience management.</td>\n",
       "      <td>San Francisco</td>\n",
       "      <td>SaaS</td>\n",
       "      <td>Enterprise Software</td>\n",
       "      <td>Experience Design</td>\n",
       "    </tr>\n",
       "    <tr>\n",
       "      <th>3</th>\n",
       "      <td>Code for America</td>\n",
       "      <td>http://codeforamerica.org</td>\n",
       "      <td>The CfA Accelerator is an early stage startup ...</td>\n",
       "      <td>Helping government work better with the people...</td>\n",
       "      <td>San Francisco</td>\n",
       "      <td>Open Source</td>\n",
       "      <td>Governments</td>\n",
       "      <td>Nonprofits</td>\n",
       "    </tr>\n",
       "    <tr>\n",
       "      <th>4</th>\n",
       "      <td>Zipongo</td>\n",
       "      <td>http://www.zipongo.com</td>\n",
       "      <td>Free: Web &amp; Mobile shopping list on healthy GO...</td>\n",
       "      <td>Prescription for Healthy Living (Personalized ...</td>\n",
       "      <td>San Francisco</td>\n",
       "      <td>Mobile</td>\n",
       "      <td>Enterprise Software</td>\n",
       "      <td>Food and Beverages</td>\n",
       "    </tr>\n",
       "    <tr>\n",
       "      <th>5</th>\n",
       "      <td>FOBO</td>\n",
       "      <td>http://fobo.net</td>\n",
       "      <td>\"FOBO Launches In San Francisco To Become The ...</td>\n",
       "      <td>The fastest, easiest way to sell your electronics</td>\n",
       "      <td>San Francisco</td>\n",
       "      <td>Mobile</td>\n",
       "      <td>Marketplaces</td>\n",
       "      <td>Local</td>\n",
       "    </tr>\n",
       "  </tbody>\n",
       "</table>\n",
       "</div>"
      ],
      "text/plain": [
       "               name                      email  \\\n",
       "0           Delight          http://delight.io   \n",
       "1           AnyRoad         http://anyroad.com   \n",
       "3  Code for America  http://codeforamerica.org   \n",
       "4           Zipongo     http://www.zipongo.com   \n",
       "5              FOBO            http://fobo.net   \n",
       "\n",
       "                                        product_desc  \\\n",
       "0  Delight enlightens developers and designers on...   \n",
       "1  AnyRoad is the leader in enterprise experience...   \n",
       "3  The CfA Accelerator is an early stage startup ...   \n",
       "4  Free: Web & Mobile shopping list on healthy GO...   \n",
       "5  \"FOBO Launches In San Francisco To Become The ...   \n",
       "\n",
       "                                        high_concept       location  \\\n",
       "0  1 line of code to capture user interaction on ...  San Francisco   \n",
       "1    The leader in enterprise experience management.  San Francisco   \n",
       "3  Helping government work better with the people...  San Francisco   \n",
       "4  Prescription for Healthy Living (Personalized ...  San Francisco   \n",
       "5  The fastest, easiest way to sell your electronics  San Francisco   \n",
       "\n",
       "        market1              market2             market3  \n",
       "0  User Testing            Usability    Mobile Analytics  \n",
       "1          SaaS  Enterprise Software   Experience Design  \n",
       "3   Open Source          Governments          Nonprofits  \n",
       "4        Mobile  Enterprise Software  Food and Beverages  \n",
       "5        Mobile         Marketplaces               Local  "
      ]
     },
     "execution_count": 26,
     "metadata": {},
     "output_type": "execute_result"
    }
   ],
   "source": [
    "df = pd.read_csv(\"uStartups.csv\")\n",
    "df_sf = df[df['location'].str.contains(\"San Francisco\")]\n",
    "df_sf.head()"
   ]
  },
  {
   "cell_type": "markdown",
   "metadata": {},
   "source": [
    "### Which markets are these startups in? <br/>\n",
    "<font size=\"3\">To understand what are major and sub markets these startups are in, I'm using bar charts to help me visualize the top 10. <br/>\n",
    "**Market 1** is the major market.</font>"
   ]
  },
  {
   "cell_type": "code",
   "execution_count": 70,
   "metadata": {},
   "outputs": [
    {
     "data": {
      "text/plain": [
       "<matplotlib.axes._subplots.AxesSubplot at 0x12ef570b8>"
      ]
     },
     "execution_count": 70,
     "metadata": {},
     "output_type": "execute_result"
    },
    {
     "data": {
      "image/png": "[encoded data removed]",
      "text/plain": [
       "<matplotlib.figure.Figure at 0x12ef6dac8>"
      ]
     },
     "metadata": {},
     "output_type": "display_data"
    }
   ],
   "source": [
    "df_sf[\"market1\"].value_counts()[:10].plot(kind='bar', rot=0, figsize=(15, 7))"
   ]
  },
  {
   "cell_type": "markdown",
   "metadata": {},
   "source": [
    "<font size=\"3\">**Market 2** is the first sub market.</font>"
   ]
  },
  {
   "cell_type": "code",
   "execution_count": 71,
   "metadata": {},
   "outputs": [
    {
     "data": {
      "text/plain": [
       "<matplotlib.axes._subplots.AxesSubplot at 0x12eea3e48>"
      ]
     },
     "execution_count": 71,
     "metadata": {},
     "output_type": "execute_result"
    },
    {
     "data": {
      "image/png": "[encoded data removed]",
      "text/plain": [
       "<matplotlib.figure.Figure at 0x12ee777f0>"
      ]
     },
     "metadata": {},
     "output_type": "display_data"
    }
   ],
   "source": [
    "df_sf[\"market2\"].value_counts()[:10].plot(kind='bar', rot=0, figsize=(15, 7), color = 'g')"
   ]
  },
  {
   "cell_type": "markdown",
   "metadata": {},
   "source": [
    "<font size=\"3\">**Market 3** is the second sub market.</font>"
   ]
  },
  {
   "cell_type": "code",
   "execution_count": 75,
   "metadata": {},
   "outputs": [
    {
     "data": {
      "text/plain": [
       "<matplotlib.axes._subplots.AxesSubplot at 0x12ebfee80>"
      ]
     },
     "execution_count": 75,
     "metadata": {},
     "output_type": "execute_result"
    },
    {
     "data": {
      "image/png": "[encoded data removed]",
      "text/plain": [
       "<matplotlib.figure.Figure at 0x132368860>"
      ]
     },
     "metadata": {},
     "output_type": "display_data"
    }
   ],
   "source": [
    "df_sf[\"market3\"].value_counts()[:10].plot(kind='bar', rot=0, figsize=(20, 7), color = 'y')"
   ]
  },
  {
   "cell_type": "markdown",
   "metadata": {},
   "source": [
    "## Dataset: Registered Business Locations (from [Kaggle](https://www.kaggle.com/san-francisco/sf-registered-business-locations-san-francisco))\n",
    "<br/>\n",
    "<font size=\"3\">This dataset will help me determine the optimal location for opening a business.</font>"
   ]
  },
  {
   "cell_type": "code",
   "execution_count": 31,
   "metadata": {},
   "outputs": [
    {
     "name": "stderr",
     "output_type": "stream",
     "text": [
      "/anaconda3/lib/python3.6/site-packages/IPython/core/interactiveshell.py:2698: DtypeWarning: Columns (25) have mixed types. Specify dtype option on import or set low_memory=False.\n",
      "  interactivity=interactivity, compiler=compiler, result=result)\n"
     ]
    },
    {
     "data": {
      "text/html": [
       "<div>\n",
       "<style>\n",
       "    .dataframe thead tr:only-child th {\n",
       "        text-align: right;\n",
       "    }\n",
       "\n",
       "    .dataframe thead th {\n",
       "        text-align: left;\n",
       "    }\n",
       "\n",
       "    .dataframe tbody tr th {\n",
       "        vertical-align: top;\n",
       "    }\n",
       "</style>\n",
       "<table border=\"1\" class=\"dataframe\">\n",
       "  <thead>\n",
       "    <tr style=\"text-align: right;\">\n",
       "      <th></th>\n",
       "      <th>Location Id</th>\n",
       "      <th>Business Account Number</th>\n",
       "      <th>Ownership Name</th>\n",
       "      <th>DBA Name</th>\n",
       "      <th>Street Address</th>\n",
       "      <th>City</th>\n",
       "      <th>State</th>\n",
       "      <th>Source Zipcode</th>\n",
       "      <th>Business Start Date</th>\n",
       "      <th>Business End Date</th>\n",
       "      <th>...</th>\n",
       "      <th>NAICS Code</th>\n",
       "      <th>NAICS Code Description</th>\n",
       "      <th>Parking Tax</th>\n",
       "      <th>Transient Occupancy Tax</th>\n",
       "      <th>LIC Code</th>\n",
       "      <th>LIC Code Description</th>\n",
       "      <th>Supervisor District</th>\n",
       "      <th>Neighborhoods - Analysis Boundaries</th>\n",
       "      <th>Business Corridor</th>\n",
       "      <th>Business Location</th>\n",
       "    </tr>\n",
       "  </thead>\n",
       "  <tbody>\n",
       "    <tr>\n",
       "      <th>0</th>\n",
       "      <td>0000071-03-001</td>\n",
       "      <td>71</td>\n",
       "      <td>Tournahu George L</td>\n",
       "      <td>1840-42 Jefferson St</td>\n",
       "      <td>1840 Jefferson St #42</td>\n",
       "      <td>San+francisco</td>\n",
       "      <td>CA</td>\n",
       "      <td>94123.0</td>\n",
       "      <td>1968-10-01T00:00:00</td>\n",
       "      <td>NaN</td>\n",
       "      <td>...</td>\n",
       "      <td>NaN</td>\n",
       "      <td>NaN</td>\n",
       "      <td>True</td>\n",
       "      <td>False</td>\n",
       "      <td>NaN</td>\n",
       "      <td>NaN</td>\n",
       "      <td>NaN</td>\n",
       "      <td>NaN</td>\n",
       "      <td>NaN</td>\n",
       "      <td>{'human_address': '{\"address\":\"1840 42 JEFFERS...</td>\n",
       "    </tr>\n",
       "    <tr>\n",
       "      <th>1</th>\n",
       "      <td>0000028-02-001</td>\n",
       "      <td>28</td>\n",
       "      <td>Ferrando Louise</td>\n",
       "      <td>3101 Laguna Apts</td>\n",
       "      <td>3101 Laguna St</td>\n",
       "      <td>San Francisco</td>\n",
       "      <td>CA</td>\n",
       "      <td>94123.0</td>\n",
       "      <td>1993-09-30T00:00:00</td>\n",
       "      <td>NaN</td>\n",
       "      <td>...</td>\n",
       "      <td>5300-5399</td>\n",
       "      <td>Real Estate and Rental and Leasing Services</td>\n",
       "      <td>False</td>\n",
       "      <td>False</td>\n",
       "      <td>NaN</td>\n",
       "      <td>NaN</td>\n",
       "      <td>2.0</td>\n",
       "      <td>Marina</td>\n",
       "      <td>NaN</td>\n",
       "      <td>{'human_address': '{\"address\":\"3101 LAGUNA ST\"...</td>\n",
       "    </tr>\n",
       "    <tr>\n",
       "      <th>2</th>\n",
       "      <td>0000052-01-001</td>\n",
       "      <td>52</td>\n",
       "      <td>Ideal Novak Corp</td>\n",
       "      <td>Ideal Novak Corp</td>\n",
       "      <td>8 Mendosa Ave</td>\n",
       "      <td>San Francisco</td>\n",
       "      <td>CA</td>\n",
       "      <td>94116.0</td>\n",
       "      <td>1968-10-01T00:00:00</td>\n",
       "      <td>NaN</td>\n",
       "      <td>...</td>\n",
       "      <td>5300-5399</td>\n",
       "      <td>Real Estate and Rental and Leasing Services</td>\n",
       "      <td>False</td>\n",
       "      <td>False</td>\n",
       "      <td>NaN</td>\n",
       "      <td>NaN</td>\n",
       "      <td>7.0</td>\n",
       "      <td>West of Twin Peaks</td>\n",
       "      <td>NaN</td>\n",
       "      <td>{'human_address': '{\"address\":\"8 MENDOSA AVE\",...</td>\n",
       "    </tr>\n",
       "    <tr>\n",
       "      <th>3</th>\n",
       "      <td>0000071-01-001</td>\n",
       "      <td>71</td>\n",
       "      <td>Tournahu George L</td>\n",
       "      <td>Tournahu Arms</td>\n",
       "      <td>1842 Jefferson St</td>\n",
       "      <td>San Francisco</td>\n",
       "      <td>CA</td>\n",
       "      <td>94123.0</td>\n",
       "      <td>1968-10-01T00:00:00</td>\n",
       "      <td>NaN</td>\n",
       "      <td>...</td>\n",
       "      <td>NaN</td>\n",
       "      <td>NaN</td>\n",
       "      <td>False</td>\n",
       "      <td>False</td>\n",
       "      <td>NaN</td>\n",
       "      <td>NaN</td>\n",
       "      <td>NaN</td>\n",
       "      <td>NaN</td>\n",
       "      <td>NaN</td>\n",
       "      <td>{'human_address': '{\"address\":\"1842 JEFFERSON ...</td>\n",
       "    </tr>\n",
       "    <tr>\n",
       "      <th>4</th>\n",
       "      <td>0000071-02-001</td>\n",
       "      <td>71</td>\n",
       "      <td>Tournahu George L</td>\n",
       "      <td>3301 Broderick Apartments</td>\n",
       "      <td>3301 Broderick St</td>\n",
       "      <td>San Francisco</td>\n",
       "      <td>CA</td>\n",
       "      <td>94123.0</td>\n",
       "      <td>1968-10-01T00:00:00</td>\n",
       "      <td>NaN</td>\n",
       "      <td>...</td>\n",
       "      <td>NaN</td>\n",
       "      <td>NaN</td>\n",
       "      <td>False</td>\n",
       "      <td>False</td>\n",
       "      <td>NaN</td>\n",
       "      <td>NaN</td>\n",
       "      <td>2.0</td>\n",
       "      <td>Marina</td>\n",
       "      <td>NaN</td>\n",
       "      <td>{'human_address': '{\"address\":\"3301 BRODERICK ...</td>\n",
       "    </tr>\n",
       "  </tbody>\n",
       "</table>\n",
       "<p>5 rows × 26 columns</p>\n",
       "</div>"
      ],
      "text/plain": [
       "      Location Id  Business Account Number     Ownership Name  \\\n",
       "0  0000071-03-001                       71  Tournahu George L   \n",
       "1  0000028-02-001                       28    Ferrando Louise   \n",
       "2  0000052-01-001                       52   Ideal Novak Corp   \n",
       "3  0000071-01-001                       71  Tournahu George L   \n",
       "4  0000071-02-001                       71  Tournahu George L   \n",
       "\n",
       "                    DBA Name         Street Address           City State  \\\n",
       "0       1840-42 Jefferson St  1840 Jefferson St #42  San+francisco    CA   \n",
       "1           3101 Laguna Apts         3101 Laguna St  San Francisco    CA   \n",
       "2           Ideal Novak Corp          8 Mendosa Ave  San Francisco    CA   \n",
       "3              Tournahu Arms      1842 Jefferson St  San Francisco    CA   \n",
       "4  3301 Broderick Apartments      3301 Broderick St  San Francisco    CA   \n",
       "\n",
       "   Source Zipcode  Business Start Date Business End Date  \\\n",
       "0         94123.0  1968-10-01T00:00:00               NaN   \n",
       "1         94123.0  1993-09-30T00:00:00               NaN   \n",
       "2         94116.0  1968-10-01T00:00:00               NaN   \n",
       "3         94123.0  1968-10-01T00:00:00               NaN   \n",
       "4         94123.0  1968-10-01T00:00:00               NaN   \n",
       "\n",
       "                         ...                         NAICS Code  \\\n",
       "0                        ...                                NaN   \n",
       "1                        ...                          5300-5399   \n",
       "2                        ...                          5300-5399   \n",
       "3                        ...                                NaN   \n",
       "4                        ...                                NaN   \n",
       "\n",
       "                        NAICS Code Description Parking Tax  \\\n",
       "0                                          NaN        True   \n",
       "1  Real Estate and Rental and Leasing Services       False   \n",
       "2  Real Estate and Rental and Leasing Services       False   \n",
       "3                                          NaN       False   \n",
       "4                                          NaN       False   \n",
       "\n",
       "  Transient Occupancy Tax LIC Code LIC Code Description Supervisor District  \\\n",
       "0                   False      NaN                  NaN                 NaN   \n",
       "1                   False      NaN                  NaN                 2.0   \n",
       "2                   False      NaN                  NaN                 7.0   \n",
       "3                   False      NaN                  NaN                 NaN   \n",
       "4                   False      NaN                  NaN                 2.0   \n",
       "\n",
       "  Neighborhoods - Analysis Boundaries  Business Corridor  \\\n",
       "0                                 NaN                NaN   \n",
       "1                              Marina                NaN   \n",
       "2                  West of Twin Peaks                NaN   \n",
       "3                                 NaN                NaN   \n",
       "4                              Marina                NaN   \n",
       "\n",
       "                                   Business Location  \n",
       "0  {'human_address': '{\"address\":\"1840 42 JEFFERS...  \n",
       "1  {'human_address': '{\"address\":\"3101 LAGUNA ST\"...  \n",
       "2  {'human_address': '{\"address\":\"8 MENDOSA AVE\",...  \n",
       "3  {'human_address': '{\"address\":\"1842 JEFFERSON ...  \n",
       "4  {'human_address': '{\"address\":\"3301 BRODERICK ...  \n",
       "\n",
       "[5 rows x 26 columns]"
      ]
     },
     "execution_count": 31,
     "metadata": {},
     "output_type": "execute_result"
    }
   ],
   "source": [
    "location_df = pd.read_csv(\"registered-business-locations-san-francisco.csv\")\n",
    "location_df.head()"
   ]
  },
  {
   "cell_type": "markdown",
   "metadata": {},
   "source": [
    "<font size=\"3\">Below are all the column names. The dataframe isn't able to show them all.</font>"
   ]
  },
  {
   "cell_type": "code",
   "execution_count": 34,
   "metadata": {},
   "outputs": [
    {
     "data": {
      "text/plain": [
       "Index(['Location Id', 'Business Account Number', 'Ownership Name', 'DBA Name',\n",
       "       'Street Address', 'City', 'State', 'Source Zipcode',\n",
       "       'Business Start Date', 'Business End Date', 'Location Start Date',\n",
       "       'Location End Date', 'Mail Address', 'Mail City', 'Mail Zipcode',\n",
       "       'Mail State', 'NAICS Code', 'NAICS Code Description', 'Parking Tax',\n",
       "       'Transient Occupancy Tax', 'LIC Code', 'LIC Code Description',\n",
       "       'Supervisor District', 'Neighborhoods - Analysis Boundaries',\n",
       "       'Business Corridor', 'Business Location'],\n",
       "      dtype='object')"
      ]
     },
     "execution_count": 34,
     "metadata": {},
     "output_type": "execute_result"
    }
   ],
   "source": [
    "location_df.columns"
   ]
  },
  {
   "cell_type": "markdown",
   "metadata": {},
   "source": [
    "<font size=\"3\">The feature 'Source Zipcode' tells us the zipcode of each business. I'm curious about the 10 most popular zipcodes.</font>"
   ]
  },
  {
   "cell_type": "code",
   "execution_count": 58,
   "metadata": {},
   "outputs": [
    {
     "data": {
      "text/plain": [
       "94110.0    15556\n",
       "94103.0    13993\n",
       "94107.0    12557\n",
       "94109.0    11602\n",
       "94102.0     9853\n",
       "94111.0     8621\n",
       "94118.0     8425\n",
       "94122.0     8393\n",
       "94105.0     8308\n",
       "94114.0     8173\n",
       "Name: Source Zipcode, dtype: int64"
      ]
     },
     "execution_count": 58,
     "metadata": {},
     "output_type": "execute_result"
    }
   ],
   "source": [
    "location_df[\"Source Zipcode\"].value_counts().iloc[:10]"
   ]
  },
  {
   "cell_type": "markdown",
   "metadata": {},
   "source": [
    "<font size=\"3\">To figure out the top business categories in those popular zipcodes, I choose the top 4 zipcodes, which have over 10k businesses, to list out top 10 types of businesses. The feature \"NAICS Code Description\" gives us the description of the business.</font>"
   ]
  },
  {
   "cell_type": "code",
   "execution_count": 76,
   "metadata": {
    "collapsed": true
   },
   "outputs": [],
   "source": [
    "# A function to return top 10 business categories in the zipcode area with counts.\n",
    "def zipcode_counter(zipcode):\n",
    "    return location_df[location_df[\"Source Zipcode\"] == zipcode][\"NAICS Code Description\"].value_counts().iloc[:10]"
   ]
  },
  {
   "cell_type": "code",
   "execution_count": 77,
   "metadata": {},
   "outputs": [
    {
     "data": {
      "text/plain": [
       "Real Estate and Rental and Leasing Services         1522\n",
       "Professional, Scientific, and Technical Services    1341\n",
       "Food Services                                       1047\n",
       "Retail Trade                                        1024\n",
       "Accommodations                                       953\n",
       "Arts, Entertainment, and Recreation                  887\n",
       "Private Education and Health Services                535\n",
       "Construction                                         503\n",
       "Multiple                                             359\n",
       "Certain Services                                     263\n",
       "Name: NAICS Code Description, dtype: int64"
      ]
     },
     "execution_count": 77,
     "metadata": {},
     "output_type": "execute_result"
    }
   ],
   "source": [
    "# 94110 - Mission District\n",
    "zipcode_counter(94110.0)"
   ]
  },
  {
   "cell_type": "code",
   "execution_count": 78,
   "metadata": {},
   "outputs": [
    {
     "data": {
      "text/plain": [
       "Real Estate and Rental and Leasing Services         1547\n",
       "Professional, Scientific, and Technical Services    1398\n",
       "Retail Trade                                        1185\n",
       "Food Services                                        901\n",
       "Arts, Entertainment, and Recreation                  515\n",
       "Accommodations                                       443\n",
       "Information                                          413\n",
       "Wholesale Trade                                      374\n",
       "Multiple                                             333\n",
       "Construction                                         300\n",
       "Name: NAICS Code Description, dtype: int64"
      ]
     },
     "execution_count": 78,
     "metadata": {},
     "output_type": "execute_result"
    }
   ],
   "source": [
    "# 94110 - SoMa\n",
    "zipcode_counter(94103.0)"
   ]
  },
  {
   "cell_type": "code",
   "execution_count": 79,
   "metadata": {},
   "outputs": [
    {
     "data": {
      "text/plain": [
       "Professional, Scientific, and Technical Services    1735\n",
       "Real Estate and Rental and Leasing Services         1075\n",
       "Food Services                                        692\n",
       "Arts, Entertainment, and Recreation                  587\n",
       "Information                                          568\n",
       "Retail Trade                                         559\n",
       "Accommodations                                       306\n",
       "Construction                                         267\n",
       "Multiple                                             257\n",
       "Certain Services                                     251\n",
       "Name: NAICS Code Description, dtype: int64"
      ]
     },
     "execution_count": 79,
     "metadata": {},
     "output_type": "execute_result"
    }
   ],
   "source": [
    "# 94110 - SoMa\n",
    "zipcode_counter(94107.0)"
   ]
  },
  {
   "cell_type": "code",
   "execution_count": 80,
   "metadata": {},
   "outputs": [
    {
     "data": {
      "text/plain": [
       "Real Estate and Rental and Leasing Services         2248\n",
       "Professional, Scientific, and Technical Services     999\n",
       "Retail Trade                                         718\n",
       "Food Services                                        633\n",
       "Private Education and Health Services                499\n",
       "Accommodations                                       382\n",
       "Arts, Entertainment, and Recreation                  359\n",
       "Certain Services                                     228\n",
       "Multiple                                             219\n",
       "Transportation and Warehousing                       175\n",
       "Name: NAICS Code Description, dtype: int64"
      ]
     },
     "execution_count": 80,
     "metadata": {},
     "output_type": "execute_result"
    }
   ],
   "source": [
    "zipcode_counter(94109.0)"
   ]
  },
  {
   "cell_type": "markdown",
   "metadata": {},
   "source": [
    "<font size=\"3\">Below is an image showing areas representing different zipcodes. Having a map will assist in explaining the locations and zipcodes I'm presenting.</font>\n",
    "<img src=\"zipcodes.png\", width=\"600\" height=\"700\">"
   ]
  },
  {
   "cell_type": "markdown",
   "metadata": {},
   "source": [
    "<font size=\"3\">Since this dataset contains not only startups but all businesses in San Francisco, it gives me a glimpse of popular industries holistically. For example, I see Real Estate and Rental and Leasing Services, Professional, Scientific, and Technical Services, Retail Trade, and Food Services appearing among top 4 in the 4 zipcodes I explored. It now comes down to what Zuck wants. If he'd like to join the tech startup community, the optimal location to start would be SoMa. </font>"
   ]
  },
  {
   "cell_type": "markdown",
   "metadata": {},
   "source": [
    "<img src=\"coworking_spaces.png\", width=\"600\" height=\"700\">"
   ]
  },
  {
   "cell_type": "markdown",
   "metadata": {},
   "source": [
    "<font size = \"3\">This was the results I got when I typed \"coworking spaces in sf\" on Google. Those pins contain co-working spaces as well as rental offices. As it shows, they are located mainly in SoMa. <br/><br/>\n",
    "Rent is cruicial in deciding on a location. Here's a chart showing the average office rental rates in San Francisco from [statista](https://www.statista.com/statistics/641394/office-space-rental-rates-san-francisco-by-submarket/).\n",
    "</font> \n"
   ]
  },
  {
   "cell_type": "markdown",
   "metadata": {},
   "source": [
    "<img src=\"office_rents.png\">"
   ]
  },
  {
   "cell_type": "code",
   "execution_count": null,
   "metadata": {
    "collapsed": true
   },
   "outputs": [],
   "source": []
  }
 ],
 "metadata": {
  "kernelspec": {
   "display_name": "Python [default]",
   "language": "python",
   "name": "python3"
  },
  "language_info": {
   "codemirror_mode": {
    "name": "ipython",
    "version": 3
   },
   "file_extension": ".py",
   "mimetype": "text/x-python",
   "name": "python",
   "nbconvert_exporter": "python",
   "pygments_lexer": "ipython3",
   "version": "3.6.3"
  }
 },
 "nbformat": 4,
 "nbformat_minor": 2
}
